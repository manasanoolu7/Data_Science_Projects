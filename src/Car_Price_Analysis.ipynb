{
 "cells": [
  {
   "cell_type": "markdown",
   "metadata": {},
   "source": [
    "## import required packages"
   ]
  },
  {
   "cell_type": "code",
   "execution_count": null,
   "metadata": {},
   "outputs": [],
   "source": [
    "import pandas as pd \n",
    "import numpy as np\n",
    "from sklearn.linear_model import LinearRegression # Model to train the data\n",
    "from sklearn.preprocessing import PolynomialFeatures # Model for polinomial data\n",
    "from sklearn.model_selection import train_test_split # splits the dataset into train set and test set\n",
    "from sklearn.metrics import mean_squared_error,r2_score # to find the error rate and accuracy scores\n",
    "import matplotlib.pyplot as plt  # library helps to plot graphs\n",
    "import seaborn as sns"
   ]
  },
  {
   "cell_type": "markdown",
   "metadata": {},
   "source": [
    "## Read dataset"
   ]
  },
  {
   "cell_type": "code",
   "execution_count": null,
   "metadata": {},
   "outputs": [],
   "source": [
    "# read csv file\n",
    "df=pd.read_csv('CarPrice_Assignment.csv')\n",
    "df.head()"
   ]
  },
  {
   "cell_type": "markdown",
   "metadata": {},
   "source": [
    "## Data Preprocessing"
   ]
  },
  {
   "cell_type": "code",
   "execution_count": null,
   "metadata": {},
   "outputs": [],
   "source": [
    "# find columns with integer and float datatypes\n",
    "df_list=[]\n",
    "for i in df.columns:\n",
    "    if df[i].dtype=='int64' or df[i].dtype=='float64':\n",
    "        df_list.append(i)"
   ]
  },
  {
   "cell_type": "code",
   "execution_count": null,
   "metadata": {},
   "outputs": [],
   "source": [
    "new_df=pd.DataFrame() # create new dataframe "
   ]
  },
  {
   "cell_type": "code",
   "execution_count": null,
   "metadata": {},
   "outputs": [],
   "source": [
    "new_df=df[df_list] # store columns with integer and float types"
   ]
  },
  {
   "cell_type": "code",
   "execution_count": null,
   "metadata": {},
   "outputs": [],
   "source": [
    "new_df.shape # gives number of recordds and features"
   ]
  },
  {
   "cell_type": "code",
   "execution_count": null,
   "metadata": {},
   "outputs": [],
   "source": [
    "# find the relation between independent features with price variable\n",
    "corr=new_df.corr()\n",
    "corr"
   ]
  },
  {
   "cell_type": "code",
   "execution_count": null,
   "metadata": {},
   "outputs": [],
   "source": [
    "df['doornumber'].astype('category') # converting 'doornumber' column from object to category"
   ]
  },
  {
   "cell_type": "code",
   "execution_count": null,
   "metadata": {},
   "outputs": [],
   "source": [
    "#change the text labels to numeric labels\n",
    "df['doornumber']=df['doornumber'].map({'two':2,'four':4})"
   ]
  },
  {
   "cell_type": "markdown",
   "metadata": {},
   "source": [
    "## Normalization"
   ]
  },
  {
   "cell_type": "code",
   "execution_count": null,
   "metadata": {},
   "outputs": [],
   "source": [
    "from sklearn.preprocessing import StandardScaler # standardize the data in (-1,1) range\n",
    "from sklearn.preprocessing import MinMaxScaler # standardize the data in (0,1) range"
   ]
  },
  {
   "cell_type": "code",
   "execution_count": null,
   "metadata": {},
   "outputs": [],
   "source": [
    "standrd=MinMaxScaler(feature_range=(0,1)) # creates MinMaxScaler object"
   ]
  },
  {
   "cell_type": "code",
   "execution_count": null,
   "metadata": {},
   "outputs": [],
   "source": [
    "fitteddata=standrd.fit_transform(new_df) # fit and transform the data to the model"
   ]
  },
  {
   "cell_type": "code",
   "execution_count": null,
   "metadata": {},
   "outputs": [],
   "source": [
    "norm_data=pd.DataFrame(fitteddata,columns=new_df.columns) # create a dataframe with standardized data"
   ]
  },
  {
   "cell_type": "markdown",
   "metadata": {},
   "source": [
    "## Feature Selection"
   ]
  },
  {
   "cell_type": "code",
   "execution_count": null,
   "metadata": {},
   "outputs": [],
   "source": [
    "# select independent features excluding target variable and convert to array \n",
    "X=norm_data.iloc[:,0:15].to_numpy() \n",
    "# select target variable and convert to array and reshape to 2D array\n",
    "y=norm_data.iloc[:,-1].to_numpy().reshape(-1,1)"
   ]
  },
  {
   "cell_type": "code",
   "execution_count": null,
   "metadata": {},
   "outputs": [],
   "source": [
    "from sklearn.feature_selection import SelectKBest # selects top 10 best features\n",
    "from sklearn.feature_selection import f_classif # calcultes the score to select the features"
   ]
  },
  {
   "cell_type": "code",
   "execution_count": null,
   "metadata": {},
   "outputs": [],
   "source": [
    "featurebest=SelectKBest(score_func=f_classif,k=10) # create SelectKBest object"
   ]
  },
  {
   "cell_type": "code",
   "execution_count": null,
   "metadata": {},
   "outputs": [],
   "source": [
    "fitteddata=featurebest.fit(X,y) # fit model to data"
   ]
  },
  {
   "cell_type": "code",
   "execution_count": null,
   "metadata": {},
   "outputs": [],
   "source": [
    "dfscores=pd.DataFrame(fitteddata.scores_) # create a dataframe to keep data scores\n",
    "dfcols=pd.DataFrame(norm_data.iloc[:,0:15].columns) # get columns from original dataset"
   ]
  },
  {
   "cell_type": "code",
   "execution_count": null,
   "metadata": {},
   "outputs": [],
   "source": [
    "featurescores=pd.concat([dfcols,dfscores],axis=1) # merge both scores and columns dataframes"
   ]
  },
  {
   "cell_type": "code",
   "execution_count": null,
   "metadata": {},
   "outputs": [],
   "source": [
    "featurescores.columns=['Specs','Score'] # assign colimns with new names"
   ]
  },
  {
   "cell_type": "code",
   "execution_count": null,
   "metadata": {},
   "outputs": [],
   "source": [
    "featurescores.nlargest(10,'Score') # display the top 10 best features"
   ]
  },
  {
   "cell_type": "code",
   "execution_count": null,
   "metadata": {},
   "outputs": [],
   "source": [
    "#create dataframe for selected features frol feature selection model \n",
    "new_data2=pd.DataFrame()\n",
    "new_data2=norm_data[['enginesize','curbweight','carwidth','horsepower', 'carlength', 'citympg', 'wheelbase', 'highwaympg', 'peakrpm', 'carheight','price']]"
   ]
  },
  {
   "cell_type": "markdown",
   "metadata": {},
   "source": [
    "## Correlation of Features"
   ]
  },
  {
   "cell_type": "code",
   "execution_count": null,
   "metadata": {},
   "outputs": [],
   "source": [
    "#to check the relationship between the features\n",
    "sns.pairplot(new_data2)"
   ]
  },
  {
   "cell_type": "code",
   "execution_count": null,
   "metadata": {},
   "outputs": [],
   "source": [
    "# finds the positive correlation between the features for feature selection\n",
    "sns.heatmap(new_data2.corr(),annot=True)"
   ]
  },
  {
   "cell_type": "markdown",
   "metadata": {},
   "source": [
    "## Linear Regression Model for traning the data and checking the Accuracy"
   ]
  },
  {
   "cell_type": "code",
   "execution_count": null,
   "metadata": {},
   "outputs": [],
   "source": [
    "from sklearn.linear_model import LinearRegression # Linear Regression class\n",
    "from sklearn.metrics import mean_squared_error,r2_score # metrics for findind error rate and accuracy"
   ]
  },
  {
   "cell_type": "code",
   "execution_count": null,
   "metadata": {},
   "outputs": [],
   "source": [
    "X_new=new_data2.iloc[:,0:11].to_numpy() # independentfeatures\n",
    "y_new=new_data2.iloc[:,-1].to_numpy().reshape(-1,1) #  dependent feature"
   ]
  },
  {
   "cell_type": "code",
   "execution_count": null,
   "metadata": {},
   "outputs": [],
   "source": [
    "lreg=LinearRegression() # creates object of LinearRegression"
   ]
  },
  {
   "cell_type": "code",
   "execution_count": null,
   "metadata": {},
   "outputs": [],
   "source": [
    "lreg.fit(X_new,y_new) # fits the data to the model"
   ]
  },
  {
   "cell_type": "code",
   "execution_count": null,
   "metadata": {},
   "outputs": [],
   "source": [
    "lreg.score(X_new,y_new) # finds the accuracy "
   ]
  },
  {
   "cell_type": "markdown",
   "metadata": {},
   "source": [
    "## Matplotlib for Visualization"
   ]
  },
  {
   "cell_type": "code",
   "execution_count": null,
   "metadata": {},
   "outputs": [],
   "source": [
    "from mpl_toolkits.mplot3d import Axes3D # plots 3d graphs\n",
    "%matplotlib notebook # displays the interactive graphs in notebook "
   ]
  },
  {
   "cell_type": "code",
   "execution_count": null,
   "metadata": {},
   "outputs": [],
   "source": [
    "#plot a graph for price with respect to engine size and horse power\n",
    "fig=plt.figure(1)\n",
    "ax=fig.add_subplot(111,projection='3d')\n",
    "ax.scatter(X_new[:,0],X_new[:,3],y_new,c=X_new[:,1])\n",
    "\n",
    "ax.set_xlabel('engine size')\n",
    "ax.set_ylabel('horse power')\n",
    "ax.set_zlabel('price')\n",
    "ax.set_title('Price vs Engine size and Horse power')"
   ]
  },
  {
   "cell_type": "code",
   "execution_count": null,
   "metadata": {},
   "outputs": [],
   "source": [
    "from matplotlib.animation import FuncAnimation # creates an animation of plotted graph"
   ]
  },
  {
   "cell_type": "code",
   "execution_count": null,
   "metadata": {},
   "outputs": [],
   "source": [
    "bits = 8\n",
    "fig = plt.figure()\n",
    "fig.subplots_adjust(left=0, bottom=0, right=1, top=1)\n",
    "ax = fig.add_subplot(111, projection='3d')\n",
    "ax.set_facecolor((0.5, 0.5, 0.5))\n",
    "gradient = np.linspace(0, 1, 2**bits)\n",
    "X,Y,Z = np.meshgrid(gradient, gradient, gradient)\n",
    "\n",
    "colors=np.stack((X_new[:,0].flatten(),X_new[:,1].flatten(),X_new[:,4].flatten()),axis=1)\n",
    "ax.scatter(X_new[:,0],X_new[:,3],y_new,alpha=1.0,s=100./2,c=colors,marker='o',linewidth=0)\n",
    "ax.set_xlabel('engine size')\n",
    "ax.set_ylabel('horse power')\n",
    "ax.set_zlabel('price')\n",
    "ax.set_title('Price vs Engine size and Horse power')"
   ]
  },
  {
   "cell_type": "code",
   "execution_count": null,
   "metadata": {},
   "outputs": [],
   "source": [
    "def update(i, fig, ax):\n",
    "    \"\"\"\n",
    "    function update: displays the animation for scattered plot\n",
    "\n",
    "    param i: number of frames\n",
    "\n",
    "    param fig: creates a figure on which the plot is drafted\n",
    "\n",
    "    param ax: plots the scatter and set the labels for x-axis, y-axis and z-axis\n",
    "    return: returns figure and plot\n",
    "    \"\"\"\n",
    "    ax.view_init(elev=20., azim=i)\n",
    "    return fig, ax\n",
    "\n",
    "#FuncAnimation is a class that takes figure, frames and update function to create an animation \n",
    "anim = FuncAnimation(fig, update, frames=np.arange(\n",
    "    0, 360, 2), repeat=True, fargs=(fig, ax))\n",
    "# saves the animated graph in 'gif' format\n",
    "anim.save('car_price_cube.gif', dpi=80, writer='imagemagick', fps=24)"
   ]
  }
 ],
 "metadata": {
  "kernelspec": {
   "display_name": "Python 3",
   "language": "python",
   "name": "python3"
  },
  "language_info": {
   "codemirror_mode": {
    "name": "ipython",
    "version": 3
   },
   "file_extension": ".py",
   "mimetype": "text/x-python",
   "name": "python",
   "nbconvert_exporter": "python",
   "pygments_lexer": "ipython3",
   "version": "3.7.6"
  }
 },
 "nbformat": 4,
 "nbformat_minor": 4
}
